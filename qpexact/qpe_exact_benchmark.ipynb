{
 "cells": [
  {
   "cell_type": "code",
   "execution_count": 1,
   "metadata": {
    "collapsed": true
   },
   "outputs": [],
   "source": [
    "# from .qpe_exact import run\n",
    "SLICER_EXECUTABLE = \"../../liblsqecc/cmake-build-debug-clang/lsqecc_slicer\"\n",
    "GENERATOR_EXECUTABLE = \"qpe_exact.py\"\n",
    "PYTHON_EXECUTABLE = \"/home/varunseshadri/.pyenv/versions/env-lsqecc/bin/python\""
   ]
  },
  {
   "cell_type": "code",
   "execution_count": 2,
   "outputs": [],
   "source": [
    "import subprocess\n",
    "import time"
   ],
   "metadata": {
    "collapsed": false
   }
  },
  {
   "cell_type": "code",
   "execution_count": 4,
   "outputs": [
    {
     "name": "stderr",
     "output_type": "stream",
     "text": [
      "Unknown output format mode \n",
      "Traceback (most recent call last):\n",
      "  File \"/home/varunseshadri/projects/lattice-surgery/benchmark/qpexact/qpe_exact.py\", line 138, in <module>\n",
      "    run(int(sys.argv[1]))\n",
      "  File \"/home/varunseshadri/projects/lattice-surgery/benchmark/qpexact/qpe_exact.py\", line 107, in run\n",
      "    circuit_of_gates = GatesCircuit.from_qasm(qasm)\n",
      "  File \"/home/varunseshadri/projects/lattice-surgery/lattice-surgery-compiler/src/lsqecc/gates/gates_circuit.py\", line 28, in from_qasm\n",
      "    num_qubits = lsqecc.gates.parse.get_num_qubits(qasm)\n",
      "  File \"/home/varunseshadri/projects/lattice-surgery/lattice-surgery-compiler/src/lsqecc/gates/parse.py\", line 56, in get_num_qubits\n",
      "    raise QasmParseException(f\"Need exactly one qreg, got {len(qregs)}\")\n",
      "lsqecc.utils.QasmParseException: Need exactly one qreg, got 2\n"
     ]
    },
    {
     "ename": "CalledProcessError",
     "evalue": "Command '/home/varunseshadri/.pyenv/versions/env-lsqecc/bin/python qpe_exact.py 3 | ../../liblsqecc/cmake-build-debug-clang/lsqecc_slicer -o -f --compactlayout machine' returned non-zero exit status 255.",
     "output_type": "error",
     "traceback": [
      "\u001B[0;31m---------------------------------------------------------------------------\u001B[0m",
      "\u001B[0;31mCalledProcessError\u001B[0m                        Traceback (most recent call last)",
      "\u001B[0;32m/tmp/ipykernel_20194/693532814.py\u001B[0m in \u001B[0;36m<cell line: 1>\u001B[0;34m()\u001B[0m\n\u001B[1;32m      1\u001B[0m \u001B[0;32mfor\u001B[0m \u001B[0mqubit_num\u001B[0m \u001B[0;32min\u001B[0m \u001B[0mrange\u001B[0m\u001B[0;34m(\u001B[0m\u001B[0;36m3\u001B[0m\u001B[0;34m,\u001B[0m\u001B[0;36m4\u001B[0m\u001B[0;34m)\u001B[0m\u001B[0;34m:\u001B[0m\u001B[0;34m\u001B[0m\u001B[0;34m\u001B[0m\u001B[0m\n\u001B[1;32m      2\u001B[0m     \u001B[0mstart\u001B[0m \u001B[0;34m=\u001B[0m \u001B[0mtime\u001B[0m\u001B[0;34m.\u001B[0m\u001B[0mtime\u001B[0m\u001B[0;34m(\u001B[0m\u001B[0;34m)\u001B[0m\u001B[0;34m\u001B[0m\u001B[0;34m\u001B[0m\u001B[0m\n\u001B[0;32m----> 3\u001B[0;31m     command_output = subprocess.check_output(\n\u001B[0m\u001B[1;32m      4\u001B[0m         f\"{PYTHON_EXECUTABLE} {GENERATOR_EXECUTABLE} {qubit_num} | {SLICER_EXECUTABLE} -o -f --compactlayout machine\", shell=True).decode('utf-8')\n\u001B[1;32m      5\u001B[0m     \u001B[0mcommand_output\u001B[0m \u001B[0;34m=\u001B[0m \u001B[0mcommand_output\u001B[0m\u001B[0;34m[\u001B[0m\u001B[0;34m:\u001B[0m\u001B[0;34m-\u001B[0m\u001B[0;36m1\u001B[0m\u001B[0;34m]\u001B[0m \u001B[0;31m# remove trailing newline\u001B[0m\u001B[0;34m\u001B[0m\u001B[0;34m\u001B[0m\u001B[0m\n",
      "\u001B[0;32m~/.pyenv/versions/3.9.8/lib/python3.9/subprocess.py\u001B[0m in \u001B[0;36mcheck_output\u001B[0;34m(timeout, *popenargs, **kwargs)\u001B[0m\n\u001B[1;32m    422\u001B[0m         \u001B[0mkwargs\u001B[0m\u001B[0;34m[\u001B[0m\u001B[0;34m'input'\u001B[0m\u001B[0;34m]\u001B[0m \u001B[0;34m=\u001B[0m \u001B[0mempty\u001B[0m\u001B[0;34m\u001B[0m\u001B[0;34m\u001B[0m\u001B[0m\n\u001B[1;32m    423\u001B[0m \u001B[0;34m\u001B[0m\u001B[0m\n\u001B[0;32m--> 424\u001B[0;31m     return run(*popenargs, stdout=PIPE, timeout=timeout, check=True,\n\u001B[0m\u001B[1;32m    425\u001B[0m                **kwargs).stdout\n\u001B[1;32m    426\u001B[0m \u001B[0;34m\u001B[0m\u001B[0m\n",
      "\u001B[0;32m~/.pyenv/versions/3.9.8/lib/python3.9/subprocess.py\u001B[0m in \u001B[0;36mrun\u001B[0;34m(input, capture_output, timeout, check, *popenargs, **kwargs)\u001B[0m\n\u001B[1;32m    526\u001B[0m         \u001B[0mretcode\u001B[0m \u001B[0;34m=\u001B[0m \u001B[0mprocess\u001B[0m\u001B[0;34m.\u001B[0m\u001B[0mpoll\u001B[0m\u001B[0;34m(\u001B[0m\u001B[0;34m)\u001B[0m\u001B[0;34m\u001B[0m\u001B[0;34m\u001B[0m\u001B[0m\n\u001B[1;32m    527\u001B[0m         \u001B[0;32mif\u001B[0m \u001B[0mcheck\u001B[0m \u001B[0;32mand\u001B[0m \u001B[0mretcode\u001B[0m\u001B[0;34m:\u001B[0m\u001B[0;34m\u001B[0m\u001B[0;34m\u001B[0m\u001B[0m\n\u001B[0;32m--> 528\u001B[0;31m             raise CalledProcessError(retcode, process.args,\n\u001B[0m\u001B[1;32m    529\u001B[0m                                      output=stdout, stderr=stderr)\n\u001B[1;32m    530\u001B[0m     \u001B[0;32mreturn\u001B[0m \u001B[0mCompletedProcess\u001B[0m\u001B[0;34m(\u001B[0m\u001B[0mprocess\u001B[0m\u001B[0;34m.\u001B[0m\u001B[0margs\u001B[0m\u001B[0;34m,\u001B[0m \u001B[0mretcode\u001B[0m\u001B[0;34m,\u001B[0m \u001B[0mstdout\u001B[0m\u001B[0;34m,\u001B[0m \u001B[0mstderr\u001B[0m\u001B[0;34m)\u001B[0m\u001B[0;34m\u001B[0m\u001B[0;34m\u001B[0m\u001B[0m\n",
      "\u001B[0;31mCalledProcessError\u001B[0m: Command '/home/varunseshadri/.pyenv/versions/env-lsqecc/bin/python qpe_exact.py 3 | ../../liblsqecc/cmake-build-debug-clang/lsqecc_slicer -o -f --compactlayout machine' returned non-zero exit status 255."
     ]
    }
   ],
   "source": [
    "for qubit_num in range(3,4):\n",
    "    start = time.time()\n",
    "    command_output = subprocess.check_output(\n",
    "        f\"{PYTHON_EXECUTABLE} {GENERATOR_EXECUTABLE} {qubit_num} | {SLICER_EXECUTABLE} -o -f --compactlayout machine\", shell=True).decode('utf-8')\n",
    "    command_output = command_output[:-1] # remove trailing newline\n",
    "    print(f\"({qubit_num}, {command_output}, {time.time() - start}),\")"
   ],
   "metadata": {
    "collapsed": false
   }
  },
  {
   "cell_type": "code",
   "execution_count": null,
   "outputs": [],
   "source": [],
   "metadata": {
    "collapsed": false
   }
  }
 ],
 "metadata": {
  "kernelspec": {
   "display_name": "Python 3",
   "language": "python",
   "name": "python3"
  },
  "language_info": {
   "codemirror_mode": {
    "name": "ipython",
    "version": 2
   },
   "file_extension": ".py",
   "mimetype": "text/x-python",
   "name": "python",
   "nbconvert_exporter": "python",
   "pygments_lexer": "ipython2",
   "version": "2.7.6"
  }
 },
 "nbformat": 4,
 "nbformat_minor": 0
}
